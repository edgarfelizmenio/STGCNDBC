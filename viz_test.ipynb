{
 "cells": [
  {
   "cell_type": "code",
   "execution_count": null,
   "metadata": {},
   "outputs": [],
   "source": [
    "import os\n",
    "import dgl\n",
    "import torch\n",
    "\n",
    "os.environ['DGLBACKEND'] = \"pytorch\" \n",
    "import matplotlib as plt\n",
    "import networkx as nx\n",
    "import numpy as np\n",
    "import scanpy as sc \n",
    "import sklearn as sk\n",
    "import squidpy as sq\n",
    "\n",
    "import graph\n",
    "\n",
    "ANNDATA_DIR = 'annData'\n",
    "DLPFC_ANNDATA_DIR = os.path.join(ANNDATA_DIR, '1.DLPFC')"
   ]
  },
  {
   "cell_type": "code",
   "execution_count": null,
   "metadata": {},
   "outputs": [],
   "source": [
    "test_sample_id = '151507'\n",
    "sample = sc.read_h5ad(os.path.join(DLPFC_ANNDATA_DIR, \"{}.h5ad\".format(test_sample_id)))\n",
    "sample"
   ]
  },
  {
   "cell_type": "code",
   "execution_count": null,
   "metadata": {},
   "outputs": [],
   "source": [
    "# Create a DGL graph object\n",
    "g = graph.create_dgl_graph(sample)"
   ]
  },
  {
   "cell_type": "code",
   "execution_count": null,
   "metadata": {},
   "outputs": [],
   "source": [
    "subgraph = graph.create_random_dgl_subgraph(g, 200)"
   ]
  },
  {
   "cell_type": "code",
   "execution_count": null,
   "metadata": {},
   "outputs": [],
   "source": [
    "network = dgl.to_networkx(subgraph.cpu(), node_attrs=['x'], edge_attrs=['w'])\n",
    "network = nx.DiGraph(network).to_undirected(reciprocal=True)\n",
    "network"
   ]
  },
  {
   "cell_type": "code",
   "execution_count": null,
   "metadata": {},
   "outputs": [],
   "source": [
    "def weighted_layout(G, weight_attr='w', init_pos=None):\n",
    "    if init_pos is None:\n",
    "        pos = nx.spring_layout(G, pos=init_pos)\n",
    "    else:\n",
    "        pos = init_pos \n",
    "    src = []\n",
    "    dst = []\n",
    "    data = []\n",
    "    for u, v, e in G.edges(data=True):\n",
    "        src.append(u)\n",
    "        dst.append(v)\n",
    "        data.append(e[weight_attr].numpy().item())\n",
    "\n",
    "    minw, maxw = min(data), max(data)\n",
    "    rangew = maxw - minw\n",
    "\n",
    "    for u, v, w in zip(src,dst,data):\n",
    "        force = ((1 - w) - minw)/rangew - 0.5\n",
    "        vector = pos[v] - pos[u]\n",
    "        angle = np.arctan2(vector[1], vector[0])\n",
    "        pos[v][0] += force*np.cos(angle)\n",
    "        pos[v][1] += force*np.sin(angle)\n",
    "\n",
    "    return pos"
   ]
  },
  {
   "cell_type": "code",
   "execution_count": null,
   "metadata": {},
   "outputs": [],
   "source": [
    "init_pos = subgraph.ndata['coords'].numpy()\n",
    "print(subgraph)\n",
    "init_pos = {i: init_pos[i] for i in range(len(init_pos))}\n",
    "print(init_pos)\n"
   ]
  },
  {
   "cell_type": "code",
   "execution_count": null,
   "metadata": {},
   "outputs": [],
   "source": [
    "pos = weighted_layout(network, init_pos=init_pos)"
   ]
  },
  {
   "cell_type": "code",
   "execution_count": null,
   "metadata": {},
   "outputs": [],
   "source": [
    "# network.edges(data=True)"
   ]
  },
  {
   "cell_type": "code",
   "execution_count": null,
   "metadata": {},
   "outputs": [],
   "source": [
    "network_weights = [d['w'].numpy().item() for u,v,d in network.edges(data=True)]\n",
    "minw, maxw = min(network_weights), max(network_weights)\n",
    "rangew = maxw - minw\n",
    "print(network_weights)\n",
    "print(minw, maxw)\n",
    "print((minw-minw)/rangew - 0.5, (maxw-minw)/rangew - 0.5)"
   ]
  },
  {
   "cell_type": "code",
   "execution_count": null,
   "metadata": {},
   "outputs": [],
   "source": [
    "# network_weights"
   ]
  },
  {
   "cell_type": "code",
   "execution_count": null,
   "metadata": {},
   "outputs": [],
   "source": [
    "# labels = {(u,v,): '{:.3}'.format(data['w'].numpy().item()) for u,v,data in network.edges(data=True)}\n",
    "# labels"
   ]
  },
  {
   "cell_type": "code",
   "execution_count": null,
   "metadata": {},
   "outputs": [],
   "source": [
    "nx.draw(network, pos=subgraph.ndata['coords'].numpy(), node_size=10, width=0.3, node_color='red', edge_color=network_weights, edge_vmin=0, edge_vmax=1,  edge_cmap=plt.cm.gist_yarg)\n",
    "# nx.draw_networkx_labels(network, pos=subgraph.ndata['coords'].numpy())\n",
    "# nx.draw_networkx_edge_labels(network, pos=subgraph.ndata['coords'].numpy(), edge_labels=labels, label_pos=0.5)"
   ]
  },
  {
   "cell_type": "code",
   "execution_count": null,
   "metadata": {},
   "outputs": [],
   "source": [
    "nx.draw(network, pos=pos, node_size=10, width=0.3, node_color='red', edge_color=network_weights, edge_vmin=0, edge_vmax=1,  edge_cmap=plt.cm.gist_yarg)\n",
    "# nx.draw_networkx_labels(network, pos=subgraph.ndata['coords'].numpy())"
   ]
  },
  {
   "cell_type": "code",
   "execution_count": null,
   "metadata": {},
   "outputs": [],
   "source": [
    "spring_pos = nx.spring_layout(network, pos=init_pos,weight='w')"
   ]
  },
  {
   "cell_type": "code",
   "execution_count": null,
   "metadata": {},
   "outputs": [],
   "source": [
    "nx.draw(network, pos=spring_pos, node_size=10, width=0.3, node_color='red', edge_color=network_weights, edge_vmin=0, edge_vmax=1,  edge_cmap=plt.cm.gist_yarg)\n",
    "# nx.draw_networkx_labels(network, pos=subgraph.ndata['coords'].numpy())"
   ]
  },
  {
   "cell_type": "code",
   "execution_count": null,
   "metadata": {},
   "outputs": [],
   "source": [
    "sq.pl.spatial_scatter(sample, color='layer_guess')"
   ]
  }
 ],
 "metadata": {
  "kernelspec": {
   "display_name": "STGCNDBC",
   "language": "python",
   "name": "python3"
  },
  "language_info": {
   "codemirror_mode": {
    "name": "ipython",
    "version": 3
   },
   "file_extension": ".py",
   "mimetype": "text/x-python",
   "name": "python",
   "nbconvert_exporter": "python",
   "pygments_lexer": "ipython3",
   "version": "3.11.0"
  }
 },
 "nbformat": 4,
 "nbformat_minor": 2
}
