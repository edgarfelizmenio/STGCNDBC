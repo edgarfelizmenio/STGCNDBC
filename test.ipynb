{
 "cells": [
  {
   "cell_type": "code",
   "execution_count": 16,
   "metadata": {},
   "outputs": [
    {
     "name": "stdout",
     "output_type": "stream",
     "text": [
      "{'feats': tensor([1, 2, 3, 4, 1])}\n",
      "{'weight': tensor([[0.5000],\n",
      "        [0.8000],\n",
      "        [0.3000],\n",
      "        [0.2000],\n",
      "        [0.7000]])}\n",
      "tensor([[0.2000, 0.4000, 0.6000, 0.8000, 0.2000],\n",
      "        [0.5000, 1.0000, 1.5000, 2.0000, 0.5000],\n",
      "        [1.5000, 3.0000, 4.5000, 6.0000, 1.5000],\n",
      "        [0.3000, 0.6000, 0.9000, 1.2000, 0.3000]])\n"
     ]
    }
   ],
   "source": [
    "import dgl\n",
    "import torch\n",
    "import torch.nn as nn\n",
    "import dgl.function as fn\n",
    "\n",
    "# Define the graph\n",
    "feats = torch.tensor([1,2,3,4])\n",
    "src = torch.tensor([0, 1, 2, 3,0])\n",
    "dst = torch.tensor([1, 2, 3, 0,2])\n",
    "edge_weights = torch.tensor([0.5, 0.8, 0.3, 0.2,0.7])\n",
    "g = dgl.graph((src, dst), num_nodes=4)\n",
    "g.edata['weight'] = edge_weights.unsqueeze(1)\n",
    "g.ndata['feats'] = feats\n",
    "# Define a custom message passing function\n",
    "def message_func(edges):\n",
    "\n",
    "    print(edges.src)\n",
    "    print(edges.data)\n",
    "    return {'msg': edges.src['feats'] * edges.data['weight']}\n",
    "\n",
    "# Apply message passing\n",
    "g.update_all(message_func, fn.sum(msg='msg', out='out'))\n",
    "\n",
    "# Retrieve updated edge weights\n",
    "updated_edge_weights = g.ndata['out']\n",
    "print(updated_edge_weights)\n"
   ]
  }
 ],
 "metadata": {
  "kernelspec": {
   "display_name": "STGCNDBC",
   "language": "python",
   "name": "python3"
  },
  "language_info": {
   "codemirror_mode": {
    "name": "ipython",
    "version": 3
   },
   "file_extension": ".py",
   "mimetype": "text/x-python",
   "name": "python",
   "nbconvert_exporter": "python",
   "pygments_lexer": "ipython3",
   "version": "3.11.0"
  }
 },
 "nbformat": 4,
 "nbformat_minor": 2
}
