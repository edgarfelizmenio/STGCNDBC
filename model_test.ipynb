{
 "cells": [
  {
   "cell_type": "code",
   "execution_count": null,
   "metadata": {},
   "outputs": [],
   "source": [
    "import os\n",
    "import torch\n",
    "\n",
    "import numpy as np\n",
    "import dgl.function as fn\n",
    "import torch.nn as nn\n",
    "import torch.nn.functional as F\n",
    "import scanpy as sc\n",
    "import networkx as nx\n",
    "import matplotlib.pyplot as plt\n",
    "\n",
    "import graph\n",
    "import model\n",
    "import visualization\n",
    "\n",
    "rng = np.random.default_rng()"
   ]
  },
  {
   "cell_type": "code",
   "execution_count": null,
   "metadata": {},
   "outputs": [],
   "source": [
    "ANNDATA_DIR = 'annData'\n",
    "DLPFC_ANNDATA_DIR = os.path.join(ANNDATA_DIR, '1.DLPFC')"
   ]
  },
  {
   "cell_type": "code",
   "execution_count": null,
   "metadata": {},
   "outputs": [],
   "source": [
    "test_sample_id = '151507'\n",
    "sample = sc.read_h5ad(os.path.join(DLPFC_ANNDATA_DIR, \"{}.h5ad\".format(test_sample_id)))\n",
    "sample"
   ]
  },
  {
   "cell_type": "code",
   "execution_count": null,
   "metadata": {},
   "outputs": [],
   "source": [
    "# test = torch.Tensor([[1,2,3,4,5],[6,7,8,9,10]])\n",
    "# tn = F.normalize(test)\n",
    "# print(torch.sum(tn**2, dim=1))\n"
   ]
  },
  {
   "cell_type": "code",
   "execution_count": null,
   "metadata": {},
   "outputs": [],
   "source": [
    "# Create a DGL graph object\n",
    "g = graph.create_dgl_graph(sample)"
   ]
  },
  {
   "cell_type": "code",
   "execution_count": null,
   "metadata": {},
   "outputs": [],
   "source": [
    "# sample the graph\n",
    "g = graph.create_random_dgl_subgraph(g, 20)"
   ]
  },
  {
   "cell_type": "code",
   "execution_count": null,
   "metadata": {},
   "outputs": [],
   "source": [
    "g.nodes()"
   ]
  },
  {
   "cell_type": "code",
   "execution_count": null,
   "metadata": {},
   "outputs": [],
   "source": [
    "g.edges()"
   ]
  },
  {
   "cell_type": "code",
   "execution_count": null,
   "metadata": {},
   "outputs": [],
   "source": [
    "g.edges(form='all')"
   ]
  },
  {
   "cell_type": "code",
   "execution_count": null,
   "metadata": {},
   "outputs": [],
   "source": [
    "g.ndata['x']"
   ]
  },
  {
   "cell_type": "code",
   "execution_count": null,
   "metadata": {},
   "outputs": [],
   "source": [
    "f_norm = F.normalize(g.ndata['x'], p=2, dim=1)\n",
    "cos_sim = torch.mm(f_norm, f_norm.t())\n",
    "# 1 if the vectors are similar, 0 if not\n",
    "cos_sim"
   ]
  },
  {
   "cell_type": "code",
   "execution_count": null,
   "metadata": {},
   "outputs": [],
   "source": [
    "# 0 if the vectors are similar, 1 if not\n",
    "cos_dist = 1 - cos_sim\n",
    "cos_dist"
   ]
  },
  {
   "cell_type": "code",
   "execution_count": null,
   "metadata": {},
   "outputs": [],
   "source": [
    "torch.arange(g.num_nodes())"
   ]
  },
  {
   "cell_type": "code",
   "execution_count": null,
   "metadata": {},
   "outputs": [],
   "source": [
    "weight_updates = cos_dist[g.edges()]\n",
    "weight_updates"
   ]
  },
  {
   "cell_type": "code",
   "execution_count": null,
   "metadata": {},
   "outputs": [],
   "source": [
    "cos_dist"
   ]
  },
  {
   "cell_type": "code",
   "execution_count": null,
   "metadata": {},
   "outputs": [],
   "source": [
    "g.edges()"
   ]
  },
  {
   "cell_type": "code",
   "execution_count": null,
   "metadata": {},
   "outputs": [],
   "source": [
    "# similarity = ot.dist(g.ndata['x'], metric='cosine')\n",
    "# mins, maxs = torch.min(similarity), torch.max(similarity)\n",
    "# ranges = maxs - mins\n",
    "# similarity = (similarity - mins)/ranges\n",
    "# similarity = 1 - similarity - torch.eye(g.num_nodes())\n",
    "# similarity\n"
   ]
  },
  {
   "cell_type": "code",
   "execution_count": null,
   "metadata": {},
   "outputs": [],
   "source": [
    "g.apply_edges(model.update_edge_weights)"
   ]
  },
  {
   "cell_type": "code",
   "execution_count": null,
   "metadata": {},
   "outputs": [],
   "source": [
    "def train_vis(g, model, sg_nids, pos):\n",
    "    features = {\n",
    "        'x': g.ndata['x'],\n",
    "        'w': g.edata['w']\n",
    "    }\n",
    "    g.ndata['embedding'] = g.ndata['x']\n",
    "\n",
    "    # initialize graph for visualization\n",
    "\n",
    "    for e in range(20000):\n",
    "        features = model(g, features)\n",
    "        g.ndata['x'] = features['x']\n",
    "        g.edata['w'] = features['w']\n",
    "        \n",
    "        # todo update network attributes.\n",
    "\n",
    "            # nx.draw_networkx_labels(network, pos=subgraph.ndata['coords'].numpy())\n",
    "        if e % 1000 == 0:\n",
    "            sg = graph.create_random_dgl_subgraph(g, nids=sg_nids)\n",
    "            g_vis = visualization.sample_networkx_from_dgl(sg)\n",
    "            network_weights, minw, maxw, rangew = visualization.get_network_weights(g_vis)\n",
    "            pos = nx.spring_layout(g_vis, weight='w', threshold=1e-7)\n",
    "            nx.draw(g_vis, pos=pos, node_size=10, width=0.3, node_color='red', edge_color=network_weights, edge_vmin=0, edge_vmax=1,  edge_cmap=plt.cm.gist_yarg)\n",
    "            plt.show()"
   ]
  },
  {
   "cell_type": "code",
   "execution_count": null,
   "metadata": {},
   "outputs": [],
   "source": [
    "sg_nids = rng.choice(g.num_nodes(), 20, replace=False)\n",
    "sg = graph.create_random_dgl_subgraph(g, nids=sg_nids)\n",
    "pos = visualization.get_initial_dgl_graph_positions(sg)\n",
    "g_vis = visualization.sample_networkx_from_dgl(sg)"
   ]
  },
  {
   "cell_type": "code",
   "execution_count": null,
   "metadata": {},
   "outputs": [],
   "source": [
    "network_weights, minw, maxw, rangew = visualization.get_network_weights(g_vis)\n",
    "nx.draw(g_vis, pos=pos, node_size=10, width=0.3, node_color='red', edge_color=network_weights, edge_vmin=minw, edge_vmax=maxw,  edge_cmap=plt.cm.gist_yarg)"
   ]
  },
  {
   "cell_type": "code",
   "execution_count": null,
   "metadata": {},
   "outputs": [],
   "source": [
    "m = model.Model()\n",
    "train_vis(g, m, sg_nids, pos)"
   ]
  },
  {
   "cell_type": "code",
   "execution_count": null,
   "metadata": {},
   "outputs": [],
   "source": [
    "g.update_all(message_func=model.send_neighborhood_data, reduce_func=model.reduce_neighborhood_score)"
   ]
  },
  {
   "cell_type": "code",
   "execution_count": null,
   "metadata": {},
   "outputs": [],
   "source": [
    "g.apply_edges(model.update_edge_weights)"
   ]
  }
 ],
 "metadata": {
  "kernelspec": {
   "display_name": "STGCNDBC",
   "language": "python",
   "name": "python3"
  },
  "language_info": {
   "codemirror_mode": {
    "name": "ipython",
    "version": 3
   },
   "file_extension": ".py",
   "mimetype": "text/x-python",
   "name": "python",
   "nbconvert_exporter": "python",
   "pygments_lexer": "ipython3",
   "version": "3.11.0"
  }
 },
 "nbformat": 4,
 "nbformat_minor": 2
}
