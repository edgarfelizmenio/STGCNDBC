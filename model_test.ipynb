{
 "cells": [
  {
   "cell_type": "code",
   "execution_count": 1,
   "metadata": {},
   "outputs": [],
   "source": [
    "import os\n",
    "import dgl\n",
    "import ot\n",
    "import torch\n",
    "\n",
    "os.environ['DGLBACKEND'] = \"pytorch\" \n",
    "import dgl.function as fn\n",
    "import torch.nn as nn\n",
    "import torch.nn.functional as F\n",
    "import scanpy as sc\n",
    "\n",
    "import graph\n",
    "import model"
   ]
  },
  {
   "cell_type": "code",
   "execution_count": 2,
   "metadata": {},
   "outputs": [],
   "source": [
    "ANNDATA_DIR = 'annData'\n",
    "DLPFC_ANNDATA_DIR = os.path.join(ANNDATA_DIR, '1.DLPFC')"
   ]
  },
  {
   "cell_type": "code",
   "execution_count": 3,
   "metadata": {},
   "outputs": [
    {
     "name": "stderr",
     "output_type": "stream",
     "text": [
      "/home/edgar/miniconda3/envs/STGCNDBC/lib/python3.11/site-packages/anndata/_core/anndata.py:1908: UserWarning: Variable names are not unique. To make them unique, call `.var_names_make_unique`.\n",
      "  utils.warn_names_duplicates(\"var\")\n"
     ]
    },
    {
     "data": {
      "text/plain": [
       "AnnData object with n_obs × n_vars = 4226 × 33538\n",
       "    obs: 'in_tissue', 'array_row', 'array_col', 'layer_guess'\n",
       "    var: 'gene_ids', 'feature_types', 'genome'\n",
       "    uns: 'layer_guess_colors', 'spatial'\n",
       "    obsm: 'spatial'"
      ]
     },
     "execution_count": 3,
     "metadata": {},
     "output_type": "execute_result"
    }
   ],
   "source": [
    "test_sample_id = '151507'\n",
    "sample = sc.read_h5ad(os.path.join(DLPFC_ANNDATA_DIR, \"{}.h5ad\".format(test_sample_id)))\n",
    "sample"
   ]
  },
  {
   "cell_type": "code",
   "execution_count": 4,
   "metadata": {},
   "outputs": [],
   "source": [
    "# test = torch.Tensor([[1,2,3,4,5],[6,7,8,9,10]])\n",
    "# tn = F.normalize(test)\n",
    "# print(torch.sum(tn**2, dim=1))\n"
   ]
  },
  {
   "cell_type": "code",
   "execution_count": 5,
   "metadata": {},
   "outputs": [],
   "source": [
    "# Create a DGL graph object\n",
    "g = graph.create_dgl_graph(sample)"
   ]
  },
  {
   "cell_type": "code",
   "execution_count": 6,
   "metadata": {},
   "outputs": [
    {
     "data": {
      "text/plain": [
       "tensor([   0,    1,    2,  ..., 4223, 4224, 4225])"
      ]
     },
     "execution_count": 6,
     "metadata": {},
     "output_type": "execute_result"
    }
   ],
   "source": [
    "g.nodes()"
   ]
  },
  {
   "cell_type": "code",
   "execution_count": 7,
   "metadata": {},
   "outputs": [
    {
     "data": {
      "text/plain": [
       "(tensor([   0,    0,    0,  ..., 4224, 4225, 4225]),\n",
       " tensor([   1,    2,    3,  ..., 4223, 4223, 4224]))"
      ]
     },
     "execution_count": 7,
     "metadata": {},
     "output_type": "execute_result"
    }
   ],
   "source": [
    "g.edges()"
   ]
  },
  {
   "cell_type": "code",
   "execution_count": 8,
   "metadata": {},
   "outputs": [
    {
     "data": {
      "text/plain": [
       "(tensor([   0,    0,    0,  ..., 4224, 4225, 4225]),\n",
       " tensor([   1,    2,    3,  ..., 4223, 4223, 4224]),\n",
       " tensor([       0,        1,        2,  ..., 17854847, 17854848, 17854849]))"
      ]
     },
     "execution_count": 8,
     "metadata": {},
     "output_type": "execute_result"
    }
   ],
   "source": [
    "g.edges(form='all')"
   ]
  },
  {
   "cell_type": "code",
   "execution_count": 9,
   "metadata": {},
   "outputs": [
    {
     "data": {
      "text/plain": [
       "tensor([[0., 0., 0.,  ..., 0., 0., 0.],\n",
       "        [0., 0., 0.,  ..., 0., 0., 0.],\n",
       "        [0., 0., 0.,  ..., 0., 0., 0.],\n",
       "        ...,\n",
       "        [0., 0., 0.,  ..., 0., 0., 0.],\n",
       "        [0., 0., 0.,  ..., 0., 0., 0.],\n",
       "        [0., 0., 0.,  ..., 0., 0., 0.]])"
      ]
     },
     "execution_count": 9,
     "metadata": {},
     "output_type": "execute_result"
    }
   ],
   "source": [
    "g.ndata['x']"
   ]
  },
  {
   "cell_type": "code",
   "execution_count": 10,
   "metadata": {},
   "outputs": [
    {
     "data": {
      "text/plain": [
       "tensor([[1.0000, 0.6897, 0.6939,  ..., 0.5363, 0.7044, 0.6659],\n",
       "        [0.6897, 1.0000, 0.8783,  ..., 0.6261, 0.9108, 0.8630],\n",
       "        [0.6939, 0.8783, 1.0000,  ..., 0.5809, 0.8749, 0.9098],\n",
       "        ...,\n",
       "        [0.5363, 0.6261, 0.5809,  ..., 1.0000, 0.6337, 0.6210],\n",
       "        [0.7044, 0.9108, 0.8749,  ..., 0.6337, 1.0000, 0.8678],\n",
       "        [0.6659, 0.8630, 0.9098,  ..., 0.6210, 0.8678, 1.0000]])"
      ]
     },
     "execution_count": 10,
     "metadata": {},
     "output_type": "execute_result"
    }
   ],
   "source": [
    "f_norm = F.normalize(g.ndata['x'], p=2, dim=1)\n",
    "cos_sim = torch.mm(f_norm, f_norm.t())\n",
    "# 1 if the vectors are similar, 0 if not\n",
    "cos_sim"
   ]
  },
  {
   "cell_type": "code",
   "execution_count": 11,
   "metadata": {},
   "outputs": [
    {
     "data": {
      "text/plain": [
       "tensor([[ 2.3842e-07,  3.1034e-01,  3.0606e-01,  ...,  4.6369e-01,\n",
       "          2.9563e-01,  3.3406e-01],\n",
       "        [ 3.1034e-01, -1.1921e-07,  1.2167e-01,  ...,  3.7391e-01,\n",
       "          8.9211e-02,  1.3701e-01],\n",
       "        [ 3.0606e-01,  1.2167e-01, -1.1921e-07,  ...,  4.1913e-01,\n",
       "          1.2511e-01,  9.0222e-02],\n",
       "        ...,\n",
       "        [ 4.6369e-01,  3.7391e-01,  4.1913e-01,  ...,  0.0000e+00,\n",
       "          3.6633e-01,  3.7902e-01],\n",
       "        [ 2.9563e-01,  8.9211e-02,  1.2511e-01,  ...,  3.6633e-01,\n",
       "          5.9605e-08,  1.3225e-01],\n",
       "        [ 3.3406e-01,  1.3701e-01,  9.0222e-02,  ...,  3.7902e-01,\n",
       "          1.3225e-01,  0.0000e+00]])"
      ]
     },
     "execution_count": 11,
     "metadata": {},
     "output_type": "execute_result"
    }
   ],
   "source": [
    "# 0 if the vectors are similar, 1 if not\n",
    "cos_dist = 1 - cos_sim\n",
    "cos_dist"
   ]
  },
  {
   "cell_type": "code",
   "execution_count": 12,
   "metadata": {},
   "outputs": [
    {
     "data": {
      "text/plain": [
       "tensor([0.3103, 0.3061, 0.4307,  ..., 0.3663, 0.3790, 0.1322])"
      ]
     },
     "execution_count": 12,
     "metadata": {},
     "output_type": "execute_result"
    }
   ],
   "source": [
    "weight_updates = cos_dist[g.edges()]\n",
    "weight_updates"
   ]
  },
  {
   "cell_type": "code",
   "execution_count": 13,
   "metadata": {},
   "outputs": [],
   "source": [
    "# similarity = ot.dist(g.ndata['x'], metric='cosine')\n",
    "# mins, maxs = torch.min(similarity), torch.max(similarity)\n",
    "# ranges = maxs - mins\n",
    "# similarity = (similarity - mins)/ranges\n",
    "# similarity = 1 - similarity - torch.eye(g.num_nodes())\n",
    "# similarity\n"
   ]
  },
  {
   "cell_type": "code",
   "execution_count": 14,
   "metadata": {},
   "outputs": [
    {
     "data": {
      "text/plain": [
       "tensor([0.3103, 0.3061, 0.4307,  ..., 0.3663, 0.3790, 0.1322])"
      ]
     },
     "execution_count": 14,
     "metadata": {},
     "output_type": "execute_result"
    }
   ],
   "source": [
    "g.edata['wu'] = weight_updates\n",
    "g.edata['wu']"
   ]
  },
  {
   "cell_type": "code",
   "execution_count": 15,
   "metadata": {},
   "outputs": [
    {
     "name": "stdout",
     "output_type": "stream",
     "text": [
      "torch.Size([17854850])\n",
      "tensor([0.0005, 0.0005, 0.0007,  ..., 0.0005, 0.0006, 0.0002])\n"
     ]
    }
   ],
   "source": [
    "g.apply_edges(model.calculate_similarity)"
   ]
  },
  {
   "cell_type": "code",
   "execution_count": 16,
   "metadata": {},
   "outputs": [],
   "source": [
    "sg = graph.create_random_dgl_subgraph(g, 20)"
   ]
  },
  {
   "cell_type": "code",
   "execution_count": 17,
   "metadata": {},
   "outputs": [
    {
     "name": "stdout",
     "output_type": "stream",
     "text": [
      "torch.Size([380])\n",
      "tensor([0.0426, 0.0394, 0.0949, 0.0425, 0.0332, 0.0297, 0.0322, 0.0358, 0.0361,\n",
      "        0.0325, 0.0357, 0.0315, 0.0427, 0.0502, 0.0287, 0.0497, 0.0385, 0.0449,\n",
      "        0.0477, 0.0369, 0.0502, 0.0278, 0.0633, 0.0338, 0.0458, 0.0459, 0.0324,\n",
      "        0.0417, 0.0431, 0.0952, 0.0357, 0.0295, 0.0309, 0.0315, 0.0346, 0.0231,\n",
      "        0.0314, 0.0284, 0.0641, 0.0633, 0.0562, 0.0491, 0.0438, 0.0475, 0.0956,\n",
      "        0.0491, 0.0616, 0.0526, 0.0524, 0.0580, 0.0644, 0.0593, 0.0639, 0.0613,\n",
      "        0.0670, 0.0742, 0.0545, 0.0479, 0.0363, 0.0421, 0.1007, 0.0371, 0.0490,\n",
      "        0.0472, 0.0480, 0.0532, 0.0472, 0.0505, 0.0512, 0.0451, 0.0561, 0.0660,\n",
      "        0.0481, 0.0571, 0.0529, 0.0562, 0.0553, 0.0337, 0.0395, 0.0486, 0.0290,\n",
      "        0.0418, 0.0384, 0.1022, 0.0405, 0.0301, 0.0253, 0.0263, 0.0332, 0.0298,\n",
      "        0.0293, 0.0301, 0.0275, 0.0387, 0.0519, 0.0263, 0.0311, 0.0368, 0.0465,\n",
      "        0.0293, 0.0614, 0.0368, 0.0416, 0.0508, 0.0332, 0.0487, 0.0377, 0.0977,\n",
      "        0.0397, 0.0366, 0.0322, 0.0344, 0.0339, 0.0283, 0.0320, 0.0335, 0.0344,\n",
      "        0.0337, 0.0385, 0.0456, 0.0326, 0.0594, 0.0391, 0.0351, 0.0531, 0.0359,\n",
      "        0.0496, 0.0476, 0.0847, 0.0463, 0.0382, 0.0341, 0.0330, 0.0948, 0.0323,\n",
      "        0.0441, 0.0400, 0.0393, 0.0476, 0.0458, 0.0372, 0.0453, 0.0423, 0.0546,\n",
      "        0.0620, 0.0380, 0.0481, 0.0483, 0.0516, 0.0421, 0.0394, 0.0332, 0.0284,\n",
      "        0.0282, 0.0230, 0.0362, 0.0507, 0.0301, 0.0667, 0.0362, 0.0414, 0.0479,\n",
      "        0.0371, 0.0464, 0.0467, 0.0982, 0.0396, 0.0343, 0.0323, 0.0331, 0.0327,\n",
      "        0.0410, 0.0401, 0.0359, 0.0449, 0.0377, 0.0382, 0.0408, 0.0335, 0.0454,\n",
      "        0.0614, 0.0391, 0.0491, 0.0453, 0.0496, 0.0367, 0.0414, 0.0331, 0.0320,\n",
      "        0.0907, 0.0904, 0.0964, 0.0962, 0.0992, 0.0843, 0.0961, 0.0961, 0.0984,\n",
      "        0.0927, 0.0923, 0.0898, 0.1000, 0.0953, 0.1011, 0.0944, 0.0990, 0.0937,\n",
      "        0.1008, 0.0931, 0.0280, 0.0325, 0.0461, 0.0302, 0.0661, 0.0354, 0.0421,\n",
      "        0.0517, 0.0364, 0.0489, 0.0460, 0.0998, 0.0426, 0.0344, 0.0350, 0.0370,\n",
      "        0.0347, 0.0280, 0.0263, 0.0554, 0.0443, 0.0524, 0.0508, 0.0945, 0.0502,\n",
      "        0.0436, 0.0408, 0.0385, 0.0349, 0.0402, 0.0408, 0.0415, 0.0442, 0.0422,\n",
      "        0.0518, 0.0381, 0.0639, 0.0477, 0.0311, 0.0298, 0.0315, 0.0341, 0.0288,\n",
      "        0.0399, 0.0508, 0.0250, 0.0522, 0.0371, 0.0372, 0.0463, 0.0315, 0.0381,\n",
      "        0.0381, 0.0988, 0.0353, 0.0312, 0.0285, 0.0493, 0.0533, 0.0394, 0.0508,\n",
      "        0.0488, 0.1037, 0.0466, 0.0411, 0.0364, 0.0397, 0.0400, 0.0361, 0.0370,\n",
      "        0.0356, 0.0337, 0.0457, 0.0562, 0.0339, 0.0658, 0.0329, 0.1017, 0.0334,\n",
      "        0.0440, 0.0400, 0.0385, 0.0488, 0.0447, 0.0473, 0.0474, 0.0403, 0.0552,\n",
      "        0.0638, 0.0413, 0.0439, 0.0497, 0.0524, 0.0358, 0.0423, 0.0360, 0.0323,\n",
      "        0.0386, 0.0338, 0.0365, 0.0343, 0.0291, 0.0439, 0.0516, 0.0300, 0.0626,\n",
      "        0.0408, 0.0447, 0.0494, 0.0333, 0.0446, 0.0445, 0.0983, 0.0426, 0.0299,\n",
      "        0.0347, 0.0319, 0.0322, 0.0350, 0.0306, 0.0429, 0.0539, 0.0253, 0.0534,\n",
      "        0.0363, 0.0422, 0.0475, 0.0301, 0.0405, 0.0403, 0.0985, 0.0413, 0.0360,\n",
      "        0.0513, 0.0382, 0.0686, 0.0451, 0.0425, 0.0562, 0.0430, 0.0562, 0.0548,\n",
      "        0.0932, 0.0467, 0.0436, 0.0424, 0.0423, 0.0386, 0.0358, 0.0367, 0.0324,\n",
      "        0.0361, 0.0493, 0.0736, 0.0533, 0.0516, 0.0640, 0.0486, 0.0626, 0.0600,\n",
      "        0.0898, 0.0608, 0.0493, 0.0512, 0.0510, 0.0450, 0.0484, 0.0448, 0.0447,\n",
      "        0.0474, 0.0504])\n"
     ]
    }
   ],
   "source": [
    "sg.apply_edges(model.calculate_similarity)"
   ]
  }
 ],
 "metadata": {
  "kernelspec": {
   "display_name": "STGCNDBC",
   "language": "python",
   "name": "python3"
  },
  "language_info": {
   "codemirror_mode": {
    "name": "ipython",
    "version": 3
   },
   "file_extension": ".py",
   "mimetype": "text/x-python",
   "name": "python",
   "nbconvert_exporter": "python",
   "pygments_lexer": "ipython3",
   "version": "3.11.0"
  }
 },
 "nbformat": 4,
 "nbformat_minor": 2
}
